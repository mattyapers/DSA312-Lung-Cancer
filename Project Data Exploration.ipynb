{
 "cells": [
  {
   "cell_type": "code",
   "execution_count": 3,
   "metadata": {},
   "outputs": [],
   "source": [
    "from IPython.core.interactiveshell import InteractiveShell\n",
    "InteractiveShell.ast_node_interactivity = \"all\""
   ]
  },
  {
   "cell_type": "code",
   "execution_count": 4,
   "metadata": {},
   "outputs": [],
   "source": [
    "#Importing Modules\n",
    "import pandas as pd\n",
    "import numpy as np\n",
    "import seaborn as sns\n",
    "import matplotlib.pyplot as plt\n",
    "import plotly.express as px"
   ]
  },
  {
   "cell_type": "code",
   "execution_count": 5,
   "metadata": {},
   "outputs": [
    {
     "data": {
      "text/plain": [
       "GENDER                   99\n",
       "AGE                      99\n",
       "SMOKING                  99\n",
       "YELLOW_FINGERS           99\n",
       "ANXIETY                  99\n",
       "PEER_PRESSURE            99\n",
       "CHRONIC DISEASE          99\n",
       "FATIGUE                  99\n",
       "ALLERGY                  99\n",
       "WHEEZING                 99\n",
       "ALCOHOL CONSUMING        99\n",
       "COUGHING                 99\n",
       "SHORTNESS OF BREATH      99\n",
       "SWALLOWING DIFFICULTY    99\n",
       "CHEST PAIN               99\n",
       "LUNG_CANCER              99\n",
       "dtype: int64"
      ]
     },
     "execution_count": 5,
     "metadata": {},
     "output_type": "execute_result"
    },
    {
     "data": {
      "text/plain": [
       "GENDER                   9001\n",
       "AGE                      9001\n",
       "SMOKING                  9001\n",
       "YELLOW_FINGERS           9001\n",
       "ANXIETY                  9001\n",
       "PEER_PRESSURE            9001\n",
       "CHRONIC DISEASE          9001\n",
       "FATIGUE                  9001\n",
       "ALLERGY                  9001\n",
       "WHEEZING                 9001\n",
       "ALCOHOL CONSUMING        9001\n",
       "COUGHING                 9001\n",
       "SHORTNESS OF BREATH      9001\n",
       "SWALLOWING DIFFICULTY    9001\n",
       "CHEST PAIN               9001\n",
       "LUNG_CANCER              9001\n",
       "dtype: int64"
      ]
     },
     "execution_count": 5,
     "metadata": {},
     "output_type": "execute_result"
    },
    {
     "data": {
      "text/html": [
       "<div>\n",
       "<style scoped>\n",
       "    .dataframe tbody tr th:only-of-type {\n",
       "        vertical-align: middle;\n",
       "    }\n",
       "\n",
       "    .dataframe tbody tr th {\n",
       "        vertical-align: top;\n",
       "    }\n",
       "\n",
       "    .dataframe thead th {\n",
       "        text-align: right;\n",
       "    }\n",
       "</style>\n",
       "<table border=\"1\" class=\"dataframe\">\n",
       "  <thead>\n",
       "    <tr style=\"text-align: right;\">\n",
       "      <th></th>\n",
       "      <th>GENDER</th>\n",
       "      <th>AGE</th>\n",
       "      <th>SMOKING</th>\n",
       "      <th>YELLOW_FINGERS</th>\n",
       "      <th>ANXIETY</th>\n",
       "      <th>PEER_PRESSURE</th>\n",
       "      <th>CHRONIC DISEASE</th>\n",
       "      <th>FATIGUE</th>\n",
       "      <th>ALLERGY</th>\n",
       "      <th>WHEEZING</th>\n",
       "      <th>ALCOHOL CONSUMING</th>\n",
       "      <th>COUGHING</th>\n",
       "      <th>SHORTNESS OF BREATH</th>\n",
       "      <th>SWALLOWING DIFFICULTY</th>\n",
       "      <th>CHEST PAIN</th>\n",
       "      <th>LUNG_CANCER</th>\n",
       "    </tr>\n",
       "  </thead>\n",
       "  <tbody>\n",
       "    <tr>\n",
       "      <th>0</th>\n",
       "      <td>0.0</td>\n",
       "      <td>61.0</td>\n",
       "      <td>0.0</td>\n",
       "      <td>0.0</td>\n",
       "      <td>1.0</td>\n",
       "      <td>1.0</td>\n",
       "      <td>0.0</td>\n",
       "      <td>1.0</td>\n",
       "      <td>0.0</td>\n",
       "      <td>0.0</td>\n",
       "      <td>0.0</td>\n",
       "      <td>0.0</td>\n",
       "      <td>1.0</td>\n",
       "      <td>0.0</td>\n",
       "      <td>0.0</td>\n",
       "      <td>1.0</td>\n",
       "    </tr>\n",
       "    <tr>\n",
       "      <th>1</th>\n",
       "      <td>1.0</td>\n",
       "      <td>70.0</td>\n",
       "      <td>1.0</td>\n",
       "      <td>1.0</td>\n",
       "      <td>0.0</td>\n",
       "      <td>0.0</td>\n",
       "      <td>1.0</td>\n",
       "      <td>0.0</td>\n",
       "      <td>1.0</td>\n",
       "      <td>1.0</td>\n",
       "      <td>0.0</td>\n",
       "      <td>1.0</td>\n",
       "      <td>1.0</td>\n",
       "      <td>0.0</td>\n",
       "      <td>0.0</td>\n",
       "      <td>1.0</td>\n",
       "    </tr>\n",
       "    <tr>\n",
       "      <th>2</th>\n",
       "      <td>1.0</td>\n",
       "      <td>59.0</td>\n",
       "      <td>0.0</td>\n",
       "      <td>0.0</td>\n",
       "      <td>0.0</td>\n",
       "      <td>0.0</td>\n",
       "      <td>1.0</td>\n",
       "      <td>1.0</td>\n",
       "      <td>0.0</td>\n",
       "      <td>0.0</td>\n",
       "      <td>0.0</td>\n",
       "      <td>0.0</td>\n",
       "      <td>0.0</td>\n",
       "      <td>0.0</td>\n",
       "      <td>1.0</td>\n",
       "      <td>0.0</td>\n",
       "    </tr>\n",
       "    <tr>\n",
       "      <th>3</th>\n",
       "      <td>1.0</td>\n",
       "      <td>54.0</td>\n",
       "      <td>0.0</td>\n",
       "      <td>0.0</td>\n",
       "      <td>0.0</td>\n",
       "      <td>1.0</td>\n",
       "      <td>0.0</td>\n",
       "      <td>1.0</td>\n",
       "      <td>0.0</td>\n",
       "      <td>1.0</td>\n",
       "      <td>1.0</td>\n",
       "      <td>1.0</td>\n",
       "      <td>1.0</td>\n",
       "      <td>0.0</td>\n",
       "      <td>1.0</td>\n",
       "      <td>1.0</td>\n",
       "    </tr>\n",
       "    <tr>\n",
       "      <th>4</th>\n",
       "      <td>0.0</td>\n",
       "      <td>54.0</td>\n",
       "      <td>1.0</td>\n",
       "      <td>0.0</td>\n",
       "      <td>0.0</td>\n",
       "      <td>1.0</td>\n",
       "      <td>0.0</td>\n",
       "      <td>1.0</td>\n",
       "      <td>1.0</td>\n",
       "      <td>0.0</td>\n",
       "      <td>1.0</td>\n",
       "      <td>0.0</td>\n",
       "      <td>0.0</td>\n",
       "      <td>1.0</td>\n",
       "      <td>0.0</td>\n",
       "      <td>1.0</td>\n",
       "    </tr>\n",
       "  </tbody>\n",
       "</table>\n",
       "</div>"
      ],
      "text/plain": [
       "   GENDER   AGE  SMOKING  YELLOW_FINGERS  ANXIETY  PEER_PRESSURE  \\\n",
       "0     0.0  61.0      0.0             0.0      1.0            1.0   \n",
       "1     1.0  70.0      1.0             1.0      0.0            0.0   \n",
       "2     1.0  59.0      0.0             0.0      0.0            0.0   \n",
       "3     1.0  54.0      0.0             0.0      0.0            1.0   \n",
       "4     0.0  54.0      1.0             0.0      0.0            1.0   \n",
       "\n",
       "   CHRONIC DISEASE  FATIGUE   ALLERGY   WHEEZING  ALCOHOL CONSUMING  COUGHING  \\\n",
       "0              0.0       1.0       0.0       0.0                0.0       0.0   \n",
       "1              1.0       0.0       1.0       1.0                0.0       1.0   \n",
       "2              1.0       1.0       0.0       0.0                0.0       0.0   \n",
       "3              0.0       1.0       0.0       1.0                1.0       1.0   \n",
       "4              0.0       1.0       1.0       0.0                1.0       0.0   \n",
       "\n",
       "   SHORTNESS OF BREATH  SWALLOWING DIFFICULTY  CHEST PAIN  LUNG_CANCER  \n",
       "0                  1.0                    0.0         0.0          1.0  \n",
       "1                  1.0                    0.0         0.0          1.0  \n",
       "2                  0.0                    0.0         1.0          0.0  \n",
       "3                  1.0                    0.0         1.0          1.0  \n",
       "4                  0.0                    1.0         0.0          1.0  "
      ]
     },
     "execution_count": 5,
     "metadata": {},
     "output_type": "execute_result"
    },
    {
     "data": {
      "text/html": [
       "<div>\n",
       "<style scoped>\n",
       "    .dataframe tbody tr th:only-of-type {\n",
       "        vertical-align: middle;\n",
       "    }\n",
       "\n",
       "    .dataframe tbody tr th {\n",
       "        vertical-align: top;\n",
       "    }\n",
       "\n",
       "    .dataframe thead th {\n",
       "        text-align: right;\n",
       "    }\n",
       "</style>\n",
       "<table border=\"1\" class=\"dataframe\">\n",
       "  <thead>\n",
       "    <tr style=\"text-align: right;\">\n",
       "      <th></th>\n",
       "      <th>GENDER</th>\n",
       "      <th>AGE</th>\n",
       "      <th>SMOKING</th>\n",
       "      <th>YELLOW_FINGERS</th>\n",
       "      <th>ANXIETY</th>\n",
       "      <th>PEER_PRESSURE</th>\n",
       "      <th>CHRONIC DISEASE</th>\n",
       "      <th>FATIGUE</th>\n",
       "      <th>ALLERGY</th>\n",
       "      <th>WHEEZING</th>\n",
       "      <th>ALCOHOL CONSUMING</th>\n",
       "      <th>COUGHING</th>\n",
       "      <th>SHORTNESS OF BREATH</th>\n",
       "      <th>SWALLOWING DIFFICULTY</th>\n",
       "      <th>CHEST PAIN</th>\n",
       "      <th>LUNG_CANCER</th>\n",
       "    </tr>\n",
       "  </thead>\n",
       "  <tbody>\n",
       "    <tr>\n",
       "      <th>count</th>\n",
       "      <td>9001.000000</td>\n",
       "      <td>9001.000000</td>\n",
       "      <td>9001.000000</td>\n",
       "      <td>9001.000000</td>\n",
       "      <td>9001.000000</td>\n",
       "      <td>9001.000000</td>\n",
       "      <td>9001.000000</td>\n",
       "      <td>9001.000000</td>\n",
       "      <td>9001.000000</td>\n",
       "      <td>9001.000000</td>\n",
       "      <td>9001.000000</td>\n",
       "      <td>9001.000000</td>\n",
       "      <td>9001.000000</td>\n",
       "      <td>9001.000000</td>\n",
       "      <td>9001.000000</td>\n",
       "      <td>9001.000000</td>\n",
       "    </tr>\n",
       "    <tr>\n",
       "      <th>mean</th>\n",
       "      <td>0.536274</td>\n",
       "      <td>60.706588</td>\n",
       "      <td>0.521053</td>\n",
       "      <td>0.527941</td>\n",
       "      <td>0.456283</td>\n",
       "      <td>0.510610</td>\n",
       "      <td>0.465726</td>\n",
       "      <td>0.687701</td>\n",
       "      <td>0.548272</td>\n",
       "      <td>0.490390</td>\n",
       "      <td>0.525164</td>\n",
       "      <td>0.593823</td>\n",
       "      <td>0.698034</td>\n",
       "      <td>0.347961</td>\n",
       "      <td>0.627819</td>\n",
       "      <td>0.805022</td>\n",
       "    </tr>\n",
       "    <tr>\n",
       "      <th>std</th>\n",
       "      <td>0.498710</td>\n",
       "      <td>11.342242</td>\n",
       "      <td>0.499584</td>\n",
       "      <td>0.499246</td>\n",
       "      <td>0.498113</td>\n",
       "      <td>0.499915</td>\n",
       "      <td>0.498852</td>\n",
       "      <td>0.463457</td>\n",
       "      <td>0.497692</td>\n",
       "      <td>0.499935</td>\n",
       "      <td>0.499394</td>\n",
       "      <td>0.491146</td>\n",
       "      <td>0.459136</td>\n",
       "      <td>0.476350</td>\n",
       "      <td>0.483413</td>\n",
       "      <td>0.396206</td>\n",
       "    </tr>\n",
       "    <tr>\n",
       "      <th>min</th>\n",
       "      <td>0.000000</td>\n",
       "      <td>21.000000</td>\n",
       "      <td>0.000000</td>\n",
       "      <td>0.000000</td>\n",
       "      <td>0.000000</td>\n",
       "      <td>0.000000</td>\n",
       "      <td>0.000000</td>\n",
       "      <td>0.000000</td>\n",
       "      <td>0.000000</td>\n",
       "      <td>0.000000</td>\n",
       "      <td>0.000000</td>\n",
       "      <td>0.000000</td>\n",
       "      <td>0.000000</td>\n",
       "      <td>0.000000</td>\n",
       "      <td>0.000000</td>\n",
       "      <td>0.000000</td>\n",
       "    </tr>\n",
       "    <tr>\n",
       "      <th>25%</th>\n",
       "      <td>0.000000</td>\n",
       "      <td>48.000000</td>\n",
       "      <td>0.000000</td>\n",
       "      <td>0.000000</td>\n",
       "      <td>0.000000</td>\n",
       "      <td>0.000000</td>\n",
       "      <td>0.000000</td>\n",
       "      <td>0.000000</td>\n",
       "      <td>0.000000</td>\n",
       "      <td>0.000000</td>\n",
       "      <td>0.000000</td>\n",
       "      <td>0.000000</td>\n",
       "      <td>0.000000</td>\n",
       "      <td>0.000000</td>\n",
       "      <td>0.000000</td>\n",
       "      <td>1.000000</td>\n",
       "    </tr>\n",
       "    <tr>\n",
       "      <th>50%</th>\n",
       "      <td>1.000000</td>\n",
       "      <td>61.000000</td>\n",
       "      <td>1.000000</td>\n",
       "      <td>1.000000</td>\n",
       "      <td>0.000000</td>\n",
       "      <td>1.000000</td>\n",
       "      <td>0.000000</td>\n",
       "      <td>1.000000</td>\n",
       "      <td>1.000000</td>\n",
       "      <td>0.000000</td>\n",
       "      <td>1.000000</td>\n",
       "      <td>1.000000</td>\n",
       "      <td>1.000000</td>\n",
       "      <td>0.000000</td>\n",
       "      <td>1.000000</td>\n",
       "      <td>1.000000</td>\n",
       "    </tr>\n",
       "    <tr>\n",
       "      <th>75%</th>\n",
       "      <td>1.000000</td>\n",
       "      <td>71.000000</td>\n",
       "      <td>1.000000</td>\n",
       "      <td>1.000000</td>\n",
       "      <td>1.000000</td>\n",
       "      <td>1.000000</td>\n",
       "      <td>1.000000</td>\n",
       "      <td>1.000000</td>\n",
       "      <td>1.000000</td>\n",
       "      <td>1.000000</td>\n",
       "      <td>1.000000</td>\n",
       "      <td>1.000000</td>\n",
       "      <td>1.000000</td>\n",
       "      <td>1.000000</td>\n",
       "      <td>1.000000</td>\n",
       "      <td>1.000000</td>\n",
       "    </tr>\n",
       "    <tr>\n",
       "      <th>max</th>\n",
       "      <td>1.000000</td>\n",
       "      <td>81.000000</td>\n",
       "      <td>1.000000</td>\n",
       "      <td>1.000000</td>\n",
       "      <td>1.000000</td>\n",
       "      <td>1.000000</td>\n",
       "      <td>1.000000</td>\n",
       "      <td>1.000000</td>\n",
       "      <td>1.000000</td>\n",
       "      <td>1.000000</td>\n",
       "      <td>1.000000</td>\n",
       "      <td>1.000000</td>\n",
       "      <td>1.000000</td>\n",
       "      <td>1.000000</td>\n",
       "      <td>1.000000</td>\n",
       "      <td>1.000000</td>\n",
       "    </tr>\n",
       "  </tbody>\n",
       "</table>\n",
       "</div>"
      ],
      "text/plain": [
       "            GENDER          AGE      SMOKING  YELLOW_FINGERS      ANXIETY  \\\n",
       "count  9001.000000  9001.000000  9001.000000     9001.000000  9001.000000   \n",
       "mean      0.536274    60.706588     0.521053        0.527941     0.456283   \n",
       "std       0.498710    11.342242     0.499584        0.499246     0.498113   \n",
       "min       0.000000    21.000000     0.000000        0.000000     0.000000   \n",
       "25%       0.000000    48.000000     0.000000        0.000000     0.000000   \n",
       "50%       1.000000    61.000000     1.000000        1.000000     0.000000   \n",
       "75%       1.000000    71.000000     1.000000        1.000000     1.000000   \n",
       "max       1.000000    81.000000     1.000000        1.000000     1.000000   \n",
       "\n",
       "       PEER_PRESSURE  CHRONIC DISEASE     FATIGUE      ALLERGY      WHEEZING  \\\n",
       "count    9001.000000      9001.000000  9001.000000  9001.000000  9001.000000   \n",
       "mean        0.510610         0.465726     0.687701     0.548272     0.490390   \n",
       "std         0.499915         0.498852     0.463457     0.497692     0.499935   \n",
       "min         0.000000         0.000000     0.000000     0.000000     0.000000   \n",
       "25%         0.000000         0.000000     0.000000     0.000000     0.000000   \n",
       "50%         1.000000         0.000000     1.000000     1.000000     0.000000   \n",
       "75%         1.000000         1.000000     1.000000     1.000000     1.000000   \n",
       "max         1.000000         1.000000     1.000000     1.000000     1.000000   \n",
       "\n",
       "       ALCOHOL CONSUMING     COUGHING  SHORTNESS OF BREATH  \\\n",
       "count        9001.000000  9001.000000          9001.000000   \n",
       "mean            0.525164     0.593823             0.698034   \n",
       "std             0.499394     0.491146             0.459136   \n",
       "min             0.000000     0.000000             0.000000   \n",
       "25%             0.000000     0.000000             0.000000   \n",
       "50%             1.000000     1.000000             1.000000   \n",
       "75%             1.000000     1.000000             1.000000   \n",
       "max             1.000000     1.000000             1.000000   \n",
       "\n",
       "       SWALLOWING DIFFICULTY   CHEST PAIN  LUNG_CANCER  \n",
       "count            9001.000000  9001.000000  9001.000000  \n",
       "mean                0.347961     0.627819     0.805022  \n",
       "std                 0.476350     0.483413     0.396206  \n",
       "min                 0.000000     0.000000     0.000000  \n",
       "25%                 0.000000     0.000000     1.000000  \n",
       "50%                 0.000000     1.000000     1.000000  \n",
       "75%                 1.000000     1.000000     1.000000  \n",
       "max                 1.000000     1.000000     1.000000  "
      ]
     },
     "execution_count": 5,
     "metadata": {},
     "output_type": "execute_result"
    }
   ],
   "source": [
    "#Data Loading + Cleaning\n",
    "df = pd.read_csv('lung cancer survey.csv')\n",
    "df.isna().sum()\n",
    "df = df.dropna()\n",
    "df.count()\n",
    "\n",
    "#Basic Data Exploration\n",
    "df.head(5)\n",
    "df.describe()\n",
    "#Describe shows the following details:\n",
    "#1. Gender, Smoking, Alcohol Consuming, Allergy are all roughly evenly split\n",
    "#2. Chest pain / Fatigue / Shortness of Breath seems to have higher prevalence as symptoms compared to the others\n",
    "#3. 80% of the dataset has lung cancer [Have to split the data by that and analyse the individual components T score test to see if it results in any differences]"
   ]
  },
  {
   "cell_type": "code",
   "execution_count": 6,
   "metadata": {},
   "outputs": [
    {
     "data": {
      "text/plain": [
       "array([   0,    0,    0,    0,    0,    0,    0,    0,    0,    0,    0,\n",
       "          0,    0,    0,    0,    0,    0,    0,    0,    0,    0,    1,\n",
       "          0,    0,    0,    0,    0,    0,    0,    0,    0,    0,    0,\n",
       "          0,    0,    0,    0,    0,    0,    0,    0,    0,    0,    0,\n",
       "          2,    0, 2030,  110,  116,   97,  177,  186,  173,  136,  159,\n",
       "        152,  168,  195,  184,  233,  270,  235,  263,  242,  226,  226,\n",
       "        201,  260,  218,  260,  209,  167,  185,  155,  140,  148,  150,\n",
       "       1174,  150,    1,    0,    2], dtype=int64)"
      ]
     },
     "execution_count": 6,
     "metadata": {},
     "output_type": "execute_result"
    },
    {
     "data": {
      "text/plain": [
       "GENDER                   9000\n",
       "AGE                      9000\n",
       "SMOKING                  9000\n",
       "YELLOW_FINGERS           9000\n",
       "ANXIETY                  9000\n",
       "PEER_PRESSURE            9000\n",
       "CHRONIC DISEASE          9000\n",
       "FATIGUE                  9000\n",
       "ALLERGY                  9000\n",
       "WHEEZING                 9000\n",
       "ALCOHOL CONSUMING        9000\n",
       "COUGHING                 9000\n",
       "SHORTNESS OF BREATH      9000\n",
       "SWALLOWING DIFFICULTY    9000\n",
       "CHEST PAIN               9000\n",
       "LUNG_CANCER              9000\n",
       "dtype: int64"
      ]
     },
     "execution_count": 6,
     "metadata": {},
     "output_type": "execute_result"
    },
    {
     "data": {
      "text/plain": [
       "AGE_CATEGORY\n",
       "70 onwards    2481\n",
       "60-69         2401\n",
       "40-49         2355\n",
       "50-59         1763\n",
       "Name: count, dtype: int64"
      ]
     },
     "execution_count": 6,
     "metadata": {},
     "output_type": "execute_result"
    }
   ],
   "source": [
    "# Seeing Data Spread\n",
    "np.bincount(df['AGE'], None, 10)\n",
    "IndexAge = df[df['AGE'] < 39].index\n",
    "df.drop(IndexAge, inplace = True)\n",
    "df.count()\n",
    "# Creating age category\n",
    "\n",
    "df['AGE_CATEGORY'] = pd.cut(df[\"AGE\"], bins = [39, 49, 59, 69, float('Inf')], labels = ['40-49', '50-59', '60-69', '70 onwards'])\n",
    "df['AGE_CATEGORY'].value_counts()"
   ]
  },
  {
   "cell_type": "code",
   "execution_count": 35,
   "metadata": {},
   "outputs": [
    {
     "name": "stderr",
     "output_type": "stream",
     "text": [
      "C:\\Users\\keith\\AppData\\Local\\Temp\\ipykernel_16664\\1461560224.py:1: FutureWarning: The default of observed=False is deprecated and will be changed to True in a future version of pandas. Pass observed=False to retain current behavior or observed=True to adopt the future default and silence this warning.\n",
      "  plot = df.groupby(['AGE_CATEGORY', 'LUNG_CANCER', 'SMOKING']).size().reset_index(name = 'Count')\n",
      "C:\\Users\\keith\\AppData\\Local\\Temp\\ipykernel_16664\\1461560224.py:2: FutureWarning: The default of observed=False is deprecated and will be changed to True in a future version of pandas. Pass observed=False to retain current behavior or observed=True to adopt the future default and silence this warning.\n",
      "  plot2 = plot.groupby(['AGE_CATEGORY', 'SMOKING'])['Count'].transform('sum')\n"
     ]
    },
    {
     "data": {
      "text/html": [
       "<div>\n",
       "<style scoped>\n",
       "    .dataframe tbody tr th:only-of-type {\n",
       "        vertical-align: middle;\n",
       "    }\n",
       "\n",
       "    .dataframe tbody tr th {\n",
       "        vertical-align: top;\n",
       "    }\n",
       "\n",
       "    .dataframe thead th {\n",
       "        text-align: right;\n",
       "    }\n",
       "</style>\n",
       "<table border=\"1\" class=\"dataframe\">\n",
       "  <thead>\n",
       "    <tr style=\"text-align: right;\">\n",
       "      <th></th>\n",
       "      <th>AGE_CATEGORY</th>\n",
       "      <th>LUNG_CANCER</th>\n",
       "      <th>SMOKING</th>\n",
       "      <th>Count</th>\n",
       "      <th>Proportion</th>\n",
       "    </tr>\n",
       "  </thead>\n",
       "  <tbody>\n",
       "    <tr>\n",
       "      <th>0</th>\n",
       "      <td>40-49</td>\n",
       "      <td>0.0</td>\n",
       "      <td>0.0</td>\n",
       "      <td>314</td>\n",
       "      <td>0.269759</td>\n",
       "    </tr>\n",
       "    <tr>\n",
       "      <th>1</th>\n",
       "      <td>40-49</td>\n",
       "      <td>0.0</td>\n",
       "      <td>1.0</td>\n",
       "      <td>213</td>\n",
       "      <td>0.178841</td>\n",
       "    </tr>\n",
       "    <tr>\n",
       "      <th>2</th>\n",
       "      <td>40-49</td>\n",
       "      <td>1.0</td>\n",
       "      <td>0.0</td>\n",
       "      <td>850</td>\n",
       "      <td>0.730241</td>\n",
       "    </tr>\n",
       "    <tr>\n",
       "      <th>3</th>\n",
       "      <td>40-49</td>\n",
       "      <td>1.0</td>\n",
       "      <td>1.0</td>\n",
       "      <td>978</td>\n",
       "      <td>0.821159</td>\n",
       "    </tr>\n",
       "    <tr>\n",
       "      <th>4</th>\n",
       "      <td>50-59</td>\n",
       "      <td>0.0</td>\n",
       "      <td>0.0</td>\n",
       "      <td>175</td>\n",
       "      <td>0.219573</td>\n",
       "    </tr>\n",
       "    <tr>\n",
       "      <th>5</th>\n",
       "      <td>50-59</td>\n",
       "      <td>0.0</td>\n",
       "      <td>1.0</td>\n",
       "      <td>157</td>\n",
       "      <td>0.162526</td>\n",
       "    </tr>\n",
       "    <tr>\n",
       "      <th>6</th>\n",
       "      <td>50-59</td>\n",
       "      <td>1.0</td>\n",
       "      <td>0.0</td>\n",
       "      <td>622</td>\n",
       "      <td>0.780427</td>\n",
       "    </tr>\n",
       "    <tr>\n",
       "      <th>7</th>\n",
       "      <td>50-59</td>\n",
       "      <td>1.0</td>\n",
       "      <td>1.0</td>\n",
       "      <td>809</td>\n",
       "      <td>0.837474</td>\n",
       "    </tr>\n",
       "    <tr>\n",
       "      <th>8</th>\n",
       "      <td>60-69</td>\n",
       "      <td>0.0</td>\n",
       "      <td>0.0</td>\n",
       "      <td>262</td>\n",
       "      <td>0.221658</td>\n",
       "    </tr>\n",
       "    <tr>\n",
       "      <th>9</th>\n",
       "      <td>60-69</td>\n",
       "      <td>0.0</td>\n",
       "      <td>1.0</td>\n",
       "      <td>236</td>\n",
       "      <td>0.193601</td>\n",
       "    </tr>\n",
       "    <tr>\n",
       "      <th>10</th>\n",
       "      <td>60-69</td>\n",
       "      <td>1.0</td>\n",
       "      <td>0.0</td>\n",
       "      <td>920</td>\n",
       "      <td>0.778342</td>\n",
       "    </tr>\n",
       "    <tr>\n",
       "      <th>11</th>\n",
       "      <td>60-69</td>\n",
       "      <td>1.0</td>\n",
       "      <td>1.0</td>\n",
       "      <td>983</td>\n",
       "      <td>0.806399</td>\n",
       "    </tr>\n",
       "    <tr>\n",
       "      <th>12</th>\n",
       "      <td>70 onwards</td>\n",
       "      <td>0.0</td>\n",
       "      <td>0.0</td>\n",
       "      <td>202</td>\n",
       "      <td>0.172945</td>\n",
       "    </tr>\n",
       "    <tr>\n",
       "      <th>13</th>\n",
       "      <td>70 onwards</td>\n",
       "      <td>0.0</td>\n",
       "      <td>1.0</td>\n",
       "      <td>196</td>\n",
       "      <td>0.149276</td>\n",
       "    </tr>\n",
       "    <tr>\n",
       "      <th>14</th>\n",
       "      <td>70 onwards</td>\n",
       "      <td>1.0</td>\n",
       "      <td>0.0</td>\n",
       "      <td>966</td>\n",
       "      <td>0.827055</td>\n",
       "    </tr>\n",
       "    <tr>\n",
       "      <th>15</th>\n",
       "      <td>70 onwards</td>\n",
       "      <td>1.0</td>\n",
       "      <td>1.0</td>\n",
       "      <td>1117</td>\n",
       "      <td>0.850724</td>\n",
       "    </tr>\n",
       "  </tbody>\n",
       "</table>\n",
       "</div>"
      ],
      "text/plain": [
       "   AGE_CATEGORY  LUNG_CANCER  SMOKING  Count  Proportion\n",
       "0         40-49          0.0      0.0    314    0.269759\n",
       "1         40-49          0.0      1.0    213    0.178841\n",
       "2         40-49          1.0      0.0    850    0.730241\n",
       "3         40-49          1.0      1.0    978    0.821159\n",
       "4         50-59          0.0      0.0    175    0.219573\n",
       "5         50-59          0.0      1.0    157    0.162526\n",
       "6         50-59          1.0      0.0    622    0.780427\n",
       "7         50-59          1.0      1.0    809    0.837474\n",
       "8         60-69          0.0      0.0    262    0.221658\n",
       "9         60-69          0.0      1.0    236    0.193601\n",
       "10        60-69          1.0      0.0    920    0.778342\n",
       "11        60-69          1.0      1.0    983    0.806399\n",
       "12   70 onwards          0.0      0.0    202    0.172945\n",
       "13   70 onwards          0.0      1.0    196    0.149276\n",
       "14   70 onwards          1.0      0.0    966    0.827055\n",
       "15   70 onwards          1.0      1.0   1117    0.850724"
      ]
     },
     "execution_count": 35,
     "metadata": {},
     "output_type": "execute_result"
    },
    {
     "name": "stderr",
     "output_type": "stream",
     "text": [
      "C:\\Users\\keith\\AppData\\Local\\Temp\\ipykernel_16664\\1461560224.py:6: FutureWarning: \n",
      "\n",
      "The `ci` parameter is deprecated. Use `errorbar=None` for the same effect.\n",
      "\n",
      "  fig_plot = sns.catplot(data = plot, kind = 'bar', x = 'AGE_CATEGORY', y = 'Proportion', col = 'SMOKING', hue = 'LUNG_CANCER', ci = None)\n"
     ]
    },
    {
     "data": {
      "image/png": "[encoded data removed]",
      "text/plain": [
       "<Figure size 1114.11x500 with 2 Axes>"
      ]
     },
     "metadata": {},
     "output_type": "display_data"
    }
   ],
   "source": [
    "plot = df.groupby(['AGE_CATEGORY', 'LUNG_CANCER', 'SMOKING']).size().reset_index(name = 'Count')\n",
    "plot2 = plot.groupby(['AGE_CATEGORY', 'SMOKING'])['Count'].transform('sum')\n",
    "plot['Proportion'] = plot['Count']/plot2\n",
    "\n",
    "plot\n",
    "fig_plot = sns.catplot(data = plot, kind = 'bar', x = 'AGE_CATEGORY', y = 'Proportion', col = 'SMOKING', hue = 'LUNG_CANCER', ci = None)"
   ]
  },
  {
   "cell_type": "code",
   "execution_count": 38,
   "metadata": {},
   "outputs": [
    {
     "data": {
      "text/plain": [
       "array([175, 622])"
      ]
     },
     "execution_count": 38,
     "metadata": {},
     "output_type": "execute_result"
    },
    {
     "data": {
      "text/plain": [
       "array([332, 797])"
      ]
     },
     "execution_count": 38,
     "metadata": {},
     "output_type": "execute_result"
    },
    {
     "name": "stdout",
     "output_type": "stream",
     "text": [
      "Z Stat: -8.511641161361448, p-value: 1.7148859000645658e-17\n"
     ]
    }
   ],
   "source": [
    "import numpy as np\n",
    "from statsmodels.stats.proportion import proportions_ztest\n",
    "\n",
    "smokers_with_cancer = 175\n",
    "smokers_without_cancer = 157\n",
    "non_smokers_with_cancer = 622\n",
    "non_smokers_without_cancer = 175\n",
    "\n",
    "counts = np.array([smokers_with_cancer, non_smokers_with_cancer])\n",
    "nobs = np.array([smokers_with_cancer + smokers_without_cancer,\n",
    "                 non_smokers_with_cancer + non_smokers_without_cancer])\n",
    "\n",
    "counts\n",
    "nobs\n",
    "\n",
    "\n",
    "# Perform Two-Proportion Z-Test\n",
    "stat, p_value = proportions_ztest(counts, nobs)\n",
    "\n",
    "print(f\"Z Stat: {stat}, p-value: {p_value}\")"
   ]
  },
  {
   "cell_type": "code",
   "execution_count": 5,
   "metadata": {},
   "outputs": [
    {
     "name": "stderr",
     "output_type": "stream",
     "text": [
      "C:\\Users\\keith\\AppData\\Local\\Temp\\ipykernel_11472\\1897709311.py:3: FutureWarning: The default of observed=False is deprecated and will be changed to True in a future version of pandas. Pass observed=False to retain current behavior or observed=True to adopt the future default and silence this warning.\n",
      "  plot = df.groupby(['LUNG_CANCER', i, 'AGE_CATEGORY']).size().reset_index(name = 'Count')\n",
      "C:\\Users\\keith\\AppData\\Local\\Temp\\ipykernel_11472\\1897709311.py:4: FutureWarning: \n",
      "\n",
      "The `ci` parameter is deprecated. Use `errorbar=None` for the same effect.\n",
      "\n",
      "  fig_plot = sns.catplot(data = plot, kind = 'bar', x = 'AGE_CATEGORY', y = 'Count', col = i, hue = 'LUNG_CANCER', ci = None)\n"
     ]
    },
    {
     "data": {
      "text/plain": [
       "<seaborn.axisgrid.FacetGrid at 0x21b653553d0>"
      ]
     },
     "execution_count": 5,
     "metadata": {},
     "output_type": "execute_result"
    },
    {
     "data": {
      "text/plain": [
       "Text(0.5, 1.02, 'SMOKING')"
      ]
     },
     "execution_count": 5,
     "metadata": {},
     "output_type": "execute_result"
    },
    {
     "data": {
      "text/plain": [
       "[Text(0, 0, '314'), Text(0, 0, '175'), Text(0, 0, '262'), Text(0, 0, '202')]"
      ]
     },
     "execution_count": 5,
     "metadata": {},
     "output_type": "execute_result"
    },
    {
     "data": {
      "text/plain": [
       "[Text(0, 0, '850'), Text(0, 0, '622'), Text(0, 0, '920'), Text(0, 0, '966')]"
      ]
     },
     "execution_count": 5,
     "metadata": {},
     "output_type": "execute_result"
    },
    {
     "data": {
      "text/plain": [
       "[Text(0, 0, '213'), Text(0, 0, '157'), Text(0, 0, '236'), Text(0, 0, '196')]"
      ]
     },
     "execution_count": 5,
     "metadata": {},
     "output_type": "execute_result"
    },
    {
     "data": {
      "text/plain": [
       "[Text(0, 0, '978'), Text(0, 0, '809'), Text(0, 0, '983'), Text(0, 0, '1117')]"
      ]
     },
     "execution_count": 5,
     "metadata": {},
     "output_type": "execute_result"
    },
    {
     "data": {
      "image/png": "[encoded data removed]",
      "text/plain": [
       "<Figure size 1114.11x500 with 2 Axes>"
      ]
     },
     "metadata": {},
     "output_type": "display_data"
    },
    {
     "name": "stderr",
     "output_type": "stream",
     "text": [
      "C:\\Users\\keith\\AppData\\Local\\Temp\\ipykernel_11472\\1897709311.py:3: FutureWarning: The default of observed=False is deprecated and will be changed to True in a future version of pandas. Pass observed=False to retain current behavior or observed=True to adopt the future default and silence this warning.\n",
      "  plot = df.groupby(['LUNG_CANCER', i, 'AGE_CATEGORY']).size().reset_index(name = 'Count')\n",
      "C:\\Users\\keith\\AppData\\Local\\Temp\\ipykernel_11472\\1897709311.py:4: FutureWarning: \n",
      "\n",
      "The `ci` parameter is deprecated. Use `errorbar=None` for the same effect.\n",
      "\n",
      "  fig_plot = sns.catplot(data = plot, kind = 'bar', x = 'AGE_CATEGORY', y = 'Count', col = i, hue = 'LUNG_CANCER', ci = None)\n"
     ]
    },
    {
     "data": {
      "text/plain": [
       "<seaborn.axisgrid.FacetGrid at 0x21b7fd0de80>"
      ]
     },
     "execution_count": 5,
     "metadata": {},
     "output_type": "execute_result"
    },
    {
     "data": {
      "text/plain": [
       "Text(0.5, 1.02, 'ANXIETY')"
      ]
     },
     "execution_count": 5,
     "metadata": {},
     "output_type": "execute_result"
    },
    {
     "data": {
      "text/plain": [
       "[Text(0, 0, '317'), Text(0, 0, '204'), Text(0, 0, '269'), Text(0, 0, '227')]"
      ]
     },
     "execution_count": 5,
     "metadata": {},
     "output_type": "execute_result"
    },
    {
     "data": {
      "text/plain": [
       "[Text(0, 0, '993'), Text(0, 0, '819'), Text(0, 0, '969'), Text(0, 0, '1095')]"
      ]
     },
     "execution_count": 5,
     "metadata": {},
     "output_type": "execute_result"
    },
    {
     "data": {
      "text/plain": [
       "[Text(0, 0, '210'), Text(0, 0, '128'), Text(0, 0, '229'), Text(0, 0, '171')]"
      ]
     },
     "execution_count": 5,
     "metadata": {},
     "output_type": "execute_result"
    },
    {
     "data": {
      "text/plain": [
       "[Text(0, 0, '835'), Text(0, 0, '612'), Text(0, 0, '934'), Text(0, 0, '988')]"
      ]
     },
     "execution_count": 5,
     "metadata": {},
     "output_type": "execute_result"
    },
    {
     "data": {
      "image/png": "[encoded data removed]",
      "text/plain": [
       "<Figure size 1114.11x500 with 2 Axes>"
      ]
     },
     "metadata": {},
     "output_type": "display_data"
    },
    {
     "name": "stderr",
     "output_type": "stream",
     "text": [
      "C:\\Users\\keith\\AppData\\Local\\Temp\\ipykernel_11472\\1897709311.py:3: FutureWarning: The default of observed=False is deprecated and will be changed to True in a future version of pandas. Pass observed=False to retain current behavior or observed=True to adopt the future default and silence this warning.\n",
      "  plot = df.groupby(['LUNG_CANCER', i, 'AGE_CATEGORY']).size().reset_index(name = 'Count')\n",
      "C:\\Users\\keith\\AppData\\Local\\Temp\\ipykernel_11472\\1897709311.py:4: FutureWarning: \n",
      "\n",
      "The `ci` parameter is deprecated. Use `errorbar=None` for the same effect.\n",
      "\n",
      "  fig_plot = sns.catplot(data = plot, kind = 'bar', x = 'AGE_CATEGORY', y = 'Count', col = i, hue = 'LUNG_CANCER', ci = None)\n"
     ]
    },
    {
     "data": {
      "text/plain": [
       "<seaborn.axisgrid.FacetGrid at 0x21b0990ccb0>"
      ]
     },
     "execution_count": 5,
     "metadata": {},
     "output_type": "execute_result"
    },
    {
     "data": {
      "text/plain": [
       "Text(0.5, 1.02, 'CHRONIC DISEASE')"
      ]
     },
     "execution_count": 5,
     "metadata": {},
     "output_type": "execute_result"
    },
    {
     "data": {
      "text/plain": [
       "[Text(0, 0, '254'), Text(0, 0, '165'), Text(0, 0, '273'), Text(0, 0, '208')]"
      ]
     },
     "execution_count": 5,
     "metadata": {},
     "output_type": "execute_result"
    },
    {
     "data": {
      "text/plain": [
       "[Text(0, 0, '1020'), Text(0, 0, '721'), Text(0, 0, '1059'), Text(0, 0, '1109')]"
      ]
     },
     "execution_count": 5,
     "metadata": {},
     "output_type": "execute_result"
    },
    {
     "data": {
      "text/plain": [
       "[Text(0, 0, '273'), Text(0, 0, '167'), Text(0, 0, '225'), Text(0, 0, '190')]"
      ]
     },
     "execution_count": 5,
     "metadata": {},
     "output_type": "execute_result"
    },
    {
     "data": {
      "text/plain": [
       "[Text(0, 0, '808'), Text(0, 0, '710'), Text(0, 0, '844'), Text(0, 0, '974')]"
      ]
     },
     "execution_count": 5,
     "metadata": {},
     "output_type": "execute_result"
    },
    {
     "data": {
      "image/png": "[encoded data removed]",
      "text/plain": [
       "<Figure size 1114.11x500 with 2 Axes>"
      ]
     },
     "metadata": {},
     "output_type": "display_data"
    },
    {
     "name": "stderr",
     "output_type": "stream",
     "text": [
      "C:\\Users\\keith\\AppData\\Local\\Temp\\ipykernel_11472\\1897709311.py:3: FutureWarning: The default of observed=False is deprecated and will be changed to True in a future version of pandas. Pass observed=False to retain current behavior or observed=True to adopt the future default and silence this warning.\n",
      "  plot = df.groupby(['LUNG_CANCER', i, 'AGE_CATEGORY']).size().reset_index(name = 'Count')\n",
      "C:\\Users\\keith\\AppData\\Local\\Temp\\ipykernel_11472\\1897709311.py:4: FutureWarning: \n",
      "\n",
      "The `ci` parameter is deprecated. Use `errorbar=None` for the same effect.\n",
      "\n",
      "  fig_plot = sns.catplot(data = plot, kind = 'bar', x = 'AGE_CATEGORY', y = 'Count', col = i, hue = 'LUNG_CANCER', ci = None)\n"
     ]
    },
    {
     "data": {
      "text/plain": [
       "<seaborn.axisgrid.FacetGrid at 0x21b09ba07a0>"
      ]
     },
     "execution_count": 5,
     "metadata": {},
     "output_type": "execute_result"
    },
    {
     "data": {
      "text/plain": [
       "Text(0.5, 1.02, 'ALCOHOL CONSUMING')"
      ]
     },
     "execution_count": 5,
     "metadata": {},
     "output_type": "execute_result"
    },
    {
     "data": {
      "text/plain": [
       "[Text(0, 0, '382'), Text(0, 0, '211'), Text(0, 0, '349'), Text(0, 0, '261')]"
      ]
     },
     "execution_count": 5,
     "metadata": {},
     "output_type": "execute_result"
    },
    {
     "data": {
      "text/plain": [
       "[Text(0, 0, '787'), Text(0, 0, '533'), Text(0, 0, '822'), Text(0, 0, '928')]"
      ]
     },
     "execution_count": 5,
     "metadata": {},
     "output_type": "execute_result"
    },
    {
     "data": {
      "text/plain": [
       "[Text(0, 0, '145'), Text(0, 0, '121'), Text(0, 0, '149'), Text(0, 0, '137')]"
      ]
     },
     "execution_count": 5,
     "metadata": {},
     "output_type": "execute_result"
    },
    {
     "data": {
      "text/plain": [
       "[Text(0, 0, '1041'), Text(0, 0, '898'), Text(0, 0, '1081'), Text(0, 0, '1155')]"
      ]
     },
     "execution_count": 5,
     "metadata": {},
     "output_type": "execute_result"
    },
    {
     "data": {
      "image/png": "[encoded data removed]",
      "text/plain": [
       "<Figure size 1114.11x500 with 2 Axes>"
      ]
     },
     "metadata": {},
     "output_type": "display_data"
    }
   ],
   "source": [
    "risk_factor = ['SMOKING', 'ANXIETY', 'CHRONIC DISEASE', 'ALCOHOL CONSUMING']\n",
    "symptoms = ['YELLOW_FINGERS', 'FATIGUE', 'WHEEZING', 'COUGHING', 'SHORTNESS OF BREATH', 'SWALLOIWNG DIFFICULTY', 'CHEST PAIN']\n",
    "for i in risk_factor:\n",
    "    plot = df.groupby(['LUNG_CANCER', i, 'AGE_CATEGORY']).size().reset_index(name = 'Count')\n",
    "    fig_plot = sns.catplot(data = plot, kind = 'bar', x = 'AGE_CATEGORY', y = 'Count', col = i, hue = 'LUNG_CANCER', ci = None)\n",
    "    fig_plot.set_titles(\"{col_var} = {col_name}\")\n",
    "    fig_plot.figure.suptitle(i, y = 1.02)\n",
    "    for ax in fig_plot.axes.ravel():\n",
    "        for c in ax.containers:\n",
    "            ax.bar_label(c, label_type = 'edge')\n",
    "        ax.margins(y = 0.5)\n",
    "    plt.show()"
   ]
  },
  {
   "cell_type": "code",
   "execution_count": 6,
   "metadata": {},
   "outputs": [],
   "source": [
    "import scipy.stats as stats\n",
    "import researchpy as rp"
   ]
  },
  {
   "cell_type": "code",
   "execution_count": 7,
   "metadata": {},
   "outputs": [
    {
     "name": "stderr",
     "output_type": "stream",
     "text": [
      "c:\\Users\\keith\\AppData\\Local\\Programs\\Python\\Python312\\Lib\\site-packages\\researchpy\\crosstab.py:146: FutureWarning: Setting an item of incompatible dtype is deprecated and will raise in a future error of pandas. Value 'Pearson Chi-square ( 1.0) = ' has dtype incompatible with float64, please explicitly cast to a compatible dtype first.\n",
      "  table.iloc[0,0] = f\"Pearson Chi-square ({dof: .1f}) = \"\n",
      "c:\\Users\\keith\\AppData\\Local\\Programs\\Python\\Python312\\Lib\\site-packages\\researchpy\\crosstab.py:146: FutureWarning: Setting an item of incompatible dtype is deprecated and will raise in a future error of pandas. Value 'Pearson Chi-square ( 1.0) = ' has dtype incompatible with float64, please explicitly cast to a compatible dtype first.\n",
      "  table.iloc[0,0] = f\"Pearson Chi-square ({dof: .1f}) = \"\n",
      "c:\\Users\\keith\\AppData\\Local\\Programs\\Python\\Python312\\Lib\\site-packages\\researchpy\\crosstab.py:146: FutureWarning: Setting an item of incompatible dtype is deprecated and will raise in a future error of pandas. Value 'Pearson Chi-square ( 1.0) = ' has dtype incompatible with float64, please explicitly cast to a compatible dtype first.\n",
      "  table.iloc[0,0] = f\"Pearson Chi-square ({dof: .1f}) = \"\n",
      "c:\\Users\\keith\\AppData\\Local\\Programs\\Python\\Python312\\Lib\\site-packages\\researchpy\\crosstab.py:146: FutureWarning: Setting an item of incompatible dtype is deprecated and will raise in a future error of pandas. Value 'Pearson Chi-square ( 1.0) = ' has dtype incompatible with float64, please explicitly cast to a compatible dtype first.\n",
      "  table.iloc[0,0] = f\"Pearson Chi-square ({dof: .1f}) = \"\n",
      "c:\\Users\\keith\\AppData\\Local\\Programs\\Python\\Python312\\Lib\\site-packages\\researchpy\\crosstab.py:146: FutureWarning: Setting an item of incompatible dtype is deprecated and will raise in a future error of pandas. Value 'Pearson Chi-square ( 1.0) = ' has dtype incompatible with float64, please explicitly cast to a compatible dtype first.\n",
      "  table.iloc[0,0] = f\"Pearson Chi-square ({dof: .1f}) = \"\n",
      "c:\\Users\\keith\\AppData\\Local\\Programs\\Python\\Python312\\Lib\\site-packages\\researchpy\\crosstab.py:146: FutureWarning: Setting an item of incompatible dtype is deprecated and will raise in a future error of pandas. Value 'Pearson Chi-square ( 1.0) = ' has dtype incompatible with float64, please explicitly cast to a compatible dtype first.\n",
      "  table.iloc[0,0] = f\"Pearson Chi-square ({dof: .1f}) = \"\n",
      "c:\\Users\\keith\\AppData\\Local\\Programs\\Python\\Python312\\Lib\\site-packages\\researchpy\\crosstab.py:146: FutureWarning: Setting an item of incompatible dtype is deprecated and will raise in a future error of pandas. Value 'Pearson Chi-square ( 1.0) = ' has dtype incompatible with float64, please explicitly cast to a compatible dtype first.\n",
      "  table.iloc[0,0] = f\"Pearson Chi-square ({dof: .1f}) = \"\n",
      "c:\\Users\\keith\\AppData\\Local\\Programs\\Python\\Python312\\Lib\\site-packages\\researchpy\\crosstab.py:146: FutureWarning: Setting an item of incompatible dtype is deprecated and will raise in a future error of pandas. Value 'Pearson Chi-square ( 1.0) = ' has dtype incompatible with float64, please explicitly cast to a compatible dtype first.\n",
      "  table.iloc[0,0] = f\"Pearson Chi-square ({dof: .1f}) = \"\n",
      "c:\\Users\\keith\\AppData\\Local\\Programs\\Python\\Python312\\Lib\\site-packages\\researchpy\\crosstab.py:146: FutureWarning: Setting an item of incompatible dtype is deprecated and will raise in a future error of pandas. Value 'Pearson Chi-square ( 1.0) = ' has dtype incompatible with float64, please explicitly cast to a compatible dtype first.\n",
      "  table.iloc[0,0] = f\"Pearson Chi-square ({dof: .1f}) = \"\n",
      "c:\\Users\\keith\\AppData\\Local\\Programs\\Python\\Python312\\Lib\\site-packages\\researchpy\\crosstab.py:146: FutureWarning: Setting an item of incompatible dtype is deprecated and will raise in a future error of pandas. Value 'Pearson Chi-square ( 1.0) = ' has dtype incompatible with float64, please explicitly cast to a compatible dtype first.\n",
      "  table.iloc[0,0] = f\"Pearson Chi-square ({dof: .1f}) = \"\n",
      "c:\\Users\\keith\\AppData\\Local\\Programs\\Python\\Python312\\Lib\\site-packages\\researchpy\\crosstab.py:146: FutureWarning: Setting an item of incompatible dtype is deprecated and will raise in a future error of pandas. Value 'Pearson Chi-square ( 1.0) = ' has dtype incompatible with float64, please explicitly cast to a compatible dtype first.\n",
      "  table.iloc[0,0] = f\"Pearson Chi-square ({dof: .1f}) = \"\n",
      "c:\\Users\\keith\\AppData\\Local\\Programs\\Python\\Python312\\Lib\\site-packages\\researchpy\\crosstab.py:146: FutureWarning: Setting an item of incompatible dtype is deprecated and will raise in a future error of pandas. Value 'Pearson Chi-square ( 1.0) = ' has dtype incompatible with float64, please explicitly cast to a compatible dtype first.\n",
      "  table.iloc[0,0] = f\"Pearson Chi-square ({dof: .1f}) = \"\n",
      "c:\\Users\\keith\\AppData\\Local\\Programs\\Python\\Python312\\Lib\\site-packages\\researchpy\\crosstab.py:146: FutureWarning: Setting an item of incompatible dtype is deprecated and will raise in a future error of pandas. Value 'Pearson Chi-square ( 1.0) = ' has dtype incompatible with float64, please explicitly cast to a compatible dtype first.\n",
      "  table.iloc[0,0] = f\"Pearson Chi-square ({dof: .1f}) = \"\n",
      "c:\\Users\\keith\\AppData\\Local\\Programs\\Python\\Python312\\Lib\\site-packages\\researchpy\\crosstab.py:146: FutureWarning: Setting an item of incompatible dtype is deprecated and will raise in a future error of pandas. Value 'Pearson Chi-square ( 1.0) = ' has dtype incompatible with float64, please explicitly cast to a compatible dtype first.\n",
      "  table.iloc[0,0] = f\"Pearson Chi-square ({dof: .1f}) = \"\n",
      "c:\\Users\\keith\\AppData\\Local\\Programs\\Python\\Python312\\Lib\\site-packages\\researchpy\\crosstab.py:146: FutureWarning: Setting an item of incompatible dtype is deprecated and will raise in a future error of pandas. Value 'Pearson Chi-square ( 1.0) = ' has dtype incompatible with float64, please explicitly cast to a compatible dtype first.\n",
      "  table.iloc[0,0] = f\"Pearson Chi-square ({dof: .1f}) = \"\n",
      "c:\\Users\\keith\\AppData\\Local\\Programs\\Python\\Python312\\Lib\\site-packages\\researchpy\\crosstab.py:146: FutureWarning: Setting an item of incompatible dtype is deprecated and will raise in a future error of pandas. Value 'Pearson Chi-square ( 1.0) = ' has dtype incompatible with float64, please explicitly cast to a compatible dtype first.\n",
      "  table.iloc[0,0] = f\"Pearson Chi-square ({dof: .1f}) = \"\n",
      "c:\\Users\\keith\\AppData\\Local\\Programs\\Python\\Python312\\Lib\\site-packages\\researchpy\\crosstab.py:146: FutureWarning: Setting an item of incompatible dtype is deprecated and will raise in a future error of pandas. Value 'Pearson Chi-square ( 1.0) = ' has dtype incompatible with float64, please explicitly cast to a compatible dtype first.\n",
      "  table.iloc[0,0] = f\"Pearson Chi-square ({dof: .1f}) = \"\n",
      "c:\\Users\\keith\\AppData\\Local\\Programs\\Python\\Python312\\Lib\\site-packages\\researchpy\\crosstab.py:146: FutureWarning: Setting an item of incompatible dtype is deprecated and will raise in a future error of pandas. Value 'Pearson Chi-square ( 1.0) = ' has dtype incompatible with float64, please explicitly cast to a compatible dtype first.\n",
      "  table.iloc[0,0] = f\"Pearson Chi-square ({dof: .1f}) = \"\n",
      "c:\\Users\\keith\\AppData\\Local\\Programs\\Python\\Python312\\Lib\\site-packages\\researchpy\\crosstab.py:146: FutureWarning: Setting an item of incompatible dtype is deprecated and will raise in a future error of pandas. Value 'Pearson Chi-square ( 1.0) = ' has dtype incompatible with float64, please explicitly cast to a compatible dtype first.\n",
      "  table.iloc[0,0] = f\"Pearson Chi-square ({dof: .1f}) = \"\n",
      "c:\\Users\\keith\\AppData\\Local\\Programs\\Python\\Python312\\Lib\\site-packages\\researchpy\\crosstab.py:146: FutureWarning: Setting an item of incompatible dtype is deprecated and will raise in a future error of pandas. Value 'Pearson Chi-square ( 1.0) = ' has dtype incompatible with float64, please explicitly cast to a compatible dtype first.\n",
      "  table.iloc[0,0] = f\"Pearson Chi-square ({dof: .1f}) = \"\n",
      "c:\\Users\\keith\\AppData\\Local\\Programs\\Python\\Python312\\Lib\\site-packages\\researchpy\\crosstab.py:146: FutureWarning: Setting an item of incompatible dtype is deprecated and will raise in a future error of pandas. Value 'Pearson Chi-square ( 1.0) = ' has dtype incompatible with float64, please explicitly cast to a compatible dtype first.\n",
      "  table.iloc[0,0] = f\"Pearson Chi-square ({dof: .1f}) = \"\n",
      "c:\\Users\\keith\\AppData\\Local\\Programs\\Python\\Python312\\Lib\\site-packages\\researchpy\\crosstab.py:146: FutureWarning: Setting an item of incompatible dtype is deprecated and will raise in a future error of pandas. Value 'Pearson Chi-square ( 1.0) = ' has dtype incompatible with float64, please explicitly cast to a compatible dtype first.\n",
      "  table.iloc[0,0] = f\"Pearson Chi-square ({dof: .1f}) = \"\n",
      "c:\\Users\\keith\\AppData\\Local\\Programs\\Python\\Python312\\Lib\\site-packages\\researchpy\\crosstab.py:146: FutureWarning: Setting an item of incompatible dtype is deprecated and will raise in a future error of pandas. Value 'Pearson Chi-square ( 1.0) = ' has dtype incompatible with float64, please explicitly cast to a compatible dtype first.\n",
      "  table.iloc[0,0] = f\"Pearson Chi-square ({dof: .1f}) = \"\n",
      "c:\\Users\\keith\\AppData\\Local\\Programs\\Python\\Python312\\Lib\\site-packages\\researchpy\\crosstab.py:146: FutureWarning: Setting an item of incompatible dtype is deprecated and will raise in a future error of pandas. Value 'Pearson Chi-square ( 1.0) = ' has dtype incompatible with float64, please explicitly cast to a compatible dtype first.\n",
      "  table.iloc[0,0] = f\"Pearson Chi-square ({dof: .1f}) = \"\n",
      "c:\\Users\\keith\\AppData\\Local\\Programs\\Python\\Python312\\Lib\\site-packages\\researchpy\\crosstab.py:146: FutureWarning: Setting an item of incompatible dtype is deprecated and will raise in a future error of pandas. Value 'Pearson Chi-square ( 1.0) = ' has dtype incompatible with float64, please explicitly cast to a compatible dtype first.\n",
      "  table.iloc[0,0] = f\"Pearson Chi-square ({dof: .1f}) = \"\n",
      "c:\\Users\\keith\\AppData\\Local\\Programs\\Python\\Python312\\Lib\\site-packages\\researchpy\\crosstab.py:146: FutureWarning: Setting an item of incompatible dtype is deprecated and will raise in a future error of pandas. Value 'Pearson Chi-square ( 1.0) = ' has dtype incompatible with float64, please explicitly cast to a compatible dtype first.\n",
      "  table.iloc[0,0] = f\"Pearson Chi-square ({dof: .1f}) = \"\n",
      "c:\\Users\\keith\\AppData\\Local\\Programs\\Python\\Python312\\Lib\\site-packages\\researchpy\\crosstab.py:146: FutureWarning: Setting an item of incompatible dtype is deprecated and will raise in a future error of pandas. Value 'Pearson Chi-square ( 1.0) = ' has dtype incompatible with float64, please explicitly cast to a compatible dtype first.\n",
      "  table.iloc[0,0] = f\"Pearson Chi-square ({dof: .1f}) = \"\n",
      "c:\\Users\\keith\\AppData\\Local\\Programs\\Python\\Python312\\Lib\\site-packages\\researchpy\\crosstab.py:146: FutureWarning: Setting an item of incompatible dtype is deprecated and will raise in a future error of pandas. Value 'Pearson Chi-square ( 1.0) = ' has dtype incompatible with float64, please explicitly cast to a compatible dtype first.\n",
      "  table.iloc[0,0] = f\"Pearson Chi-square ({dof: .1f}) = \"\n",
      "c:\\Users\\keith\\AppData\\Local\\Programs\\Python\\Python312\\Lib\\site-packages\\researchpy\\crosstab.py:146: FutureWarning: Setting an item of incompatible dtype is deprecated and will raise in a future error of pandas. Value 'Pearson Chi-square ( 1.0) = ' has dtype incompatible with float64, please explicitly cast to a compatible dtype first.\n",
      "  table.iloc[0,0] = f\"Pearson Chi-square ({dof: .1f}) = \"\n",
      "c:\\Users\\keith\\AppData\\Local\\Programs\\Python\\Python312\\Lib\\site-packages\\researchpy\\crosstab.py:146: FutureWarning: Setting an item of incompatible dtype is deprecated and will raise in a future error of pandas. Value 'Pearson Chi-square ( 1.0) = ' has dtype incompatible with float64, please explicitly cast to a compatible dtype first.\n",
      "  table.iloc[0,0] = f\"Pearson Chi-square ({dof: .1f}) = \"\n",
      "c:\\Users\\keith\\AppData\\Local\\Programs\\Python\\Python312\\Lib\\site-packages\\researchpy\\crosstab.py:146: FutureWarning: Setting an item of incompatible dtype is deprecated and will raise in a future error of pandas. Value 'Pearson Chi-square ( 1.0) = ' has dtype incompatible with float64, please explicitly cast to a compatible dtype first.\n",
      "  table.iloc[0,0] = f\"Pearson Chi-square ({dof: .1f}) = \"\n",
      "c:\\Users\\keith\\AppData\\Local\\Programs\\Python\\Python312\\Lib\\site-packages\\researchpy\\crosstab.py:146: FutureWarning: Setting an item of incompatible dtype is deprecated and will raise in a future error of pandas. Value 'Pearson Chi-square ( 1.0) = ' has dtype incompatible with float64, please explicitly cast to a compatible dtype first.\n",
      "  table.iloc[0,0] = f\"Pearson Chi-square ({dof: .1f}) = \"\n"
     ]
    }
   ],
   "source": [
    "Result = {}\n",
    "for i in df['AGE_CATEGORY'].unique():\n",
    "    for y in df['GENDER'].unique():\n",
    "        sub_data = df[(df['AGE_CATEGORY'] == i) & (df['GENDER'] == y)]    \n",
    "        for e in risk_factor:\n",
    "            crosstab, test_results, expected = rp.crosstab(sub_data['LUNG_CANCER'], sub_data[e], test = 'chi-square', expected_freqs=True, prop = 'cell')\n",
    "            Result[f'Gender: {y}, Age Group: {i}, Risk: {e}'] = [f'Significance: {test_results.iloc[1, 1]}, Cramer: {test_results.iloc[2, 1]}']"
   ]
  },
  {
   "cell_type": "code",
   "execution_count": 8,
   "metadata": {},
   "outputs": [
    {
     "data": {
      "text/plain": [
       "{'Gender: 0.0, Age Group: 60-69, Risk: SMOKING': ['Significance: 0.9751, Cramer: 0.0009'],\n",
       " 'Gender: 0.0, Age Group: 60-69, Risk: ANXIETY': ['Significance: 0.66, Cramer: 0.0132'],\n",
       " 'Gender: 0.0, Age Group: 60-69, Risk: CHRONIC DISEASE': ['Significance: 0.7786, Cramer: 0.0084'],\n",
       " 'Gender: 0.0, Age Group: 60-69, Risk: ALCOHOL CONSUMING': ['Significance: 0.0002, Cramer: 0.1116'],\n",
       " 'Gender: 1.0, Age Group: 60-69, Risk: SMOKING': ['Significance: 0.0354, Cramer: 0.0587'],\n",
       " 'Gender: 1.0, Age Group: 60-69, Risk: ANXIETY': ['Significance: 0.1994, Cramer: 0.0358'],\n",
       " 'Gender: 1.0, Age Group: 60-69, Risk: CHRONIC DISEASE': ['Significance: 0.817, Cramer: 0.0065'],\n",
       " 'Gender: 1.0, Age Group: 60-69, Risk: ALCOHOL CONSUMING': ['Significance: 0.0, Cramer: 0.3042'],\n",
       " 'Gender: 0.0, Age Group: 70 onwards, Risk: SMOKING': ['Significance: 0.1875, Cramer: 0.0387'],\n",
       " 'Gender: 0.0, Age Group: 70 onwards, Risk: ANXIETY': ['Significance: 0.1761, Cramer: 0.0397'],\n",
       " 'Gender: 0.0, Age Group: 70 onwards, Risk: CHRONIC DISEASE': ['Significance: 0.5917, Cramer: 0.0158'],\n",
       " 'Gender: 0.0, Age Group: 70 onwards, Risk: ALCOHOL CONSUMING': ['Significance: 0.009, Cramer: 0.0767'],\n",
       " 'Gender: 1.0, Age Group: 70 onwards, Risk: SMOKING': ['Significance: 0.2956, Cramer: 0.0288'],\n",
       " 'Gender: 1.0, Age Group: 70 onwards, Risk: ANXIETY': ['Significance: 0.4685, Cramer: 0.0199'],\n",
       " 'Gender: 1.0, Age Group: 70 onwards, Risk: CHRONIC DISEASE': ['Significance: 0.3513, Cramer: 0.0256'],\n",
       " 'Gender: 1.0, Age Group: 70 onwards, Risk: ALCOHOL CONSUMING': ['Significance: 0.0, Cramer: 0.2206'],\n",
       " 'Gender: 0.0, Age Group: 50-59, Risk: SMOKING': ['Significance: 0.5006, Cramer: 0.0236'],\n",
       " 'Gender: 0.0, Age Group: 50-59, Risk: ANXIETY': ['Significance: 0.3308, Cramer: 0.0341'],\n",
       " 'Gender: 0.0, Age Group: 50-59, Risk: CHRONIC DISEASE': ['Significance: 0.6117, Cramer: 0.0178'],\n",
       " 'Gender: 0.0, Age Group: 50-59, Risk: ALCOHOL CONSUMING': ['Significance: 0.001, Cramer: 0.1158'],\n",
       " 'Gender: 1.0, Age Group: 50-59, Risk: SMOKING': ['Significance: 0.0018, Cramer: 0.1013'],\n",
       " 'Gender: 1.0, Age Group: 50-59, Risk: ANXIETY': ['Significance: 0.408, Cramer: 0.0268'],\n",
       " 'Gender: 1.0, Age Group: 50-59, Risk: CHRONIC DISEASE': ['Significance: 0.9443, Cramer: 0.0023'],\n",
       " 'Gender: 1.0, Age Group: 50-59, Risk: ALCOHOL CONSUMING': ['Significance: 0.0, Cramer: 0.2953'],\n",
       " 'Gender: 0.0, Age Group: 40-49, Risk: SMOKING': ['Significance: 0.0001, Cramer: 0.1211'],\n",
       " 'Gender: 0.0, Age Group: 40-49, Risk: ANXIETY': ['Significance: 0.8012, Cramer: 0.0076'],\n",
       " 'Gender: 0.0, Age Group: 40-49, Risk: CHRONIC DISEASE': ['Significance: 0.1173, Cramer: 0.0475'],\n",
       " 'Gender: 0.0, Age Group: 40-49, Risk: ALCOHOL CONSUMING': ['Significance: 0.0, Cramer: 0.1316'],\n",
       " 'Gender: 1.0, Age Group: 40-49, Risk: SMOKING': ['Significance: 0.0004, Cramer: 0.0999'],\n",
       " 'Gender: 1.0, Age Group: 40-49, Risk: ANXIETY': ['Significance: 0.007, Cramer: 0.0757'],\n",
       " 'Gender: 1.0, Age Group: 40-49, Risk: CHRONIC DISEASE': ['Significance: 0.0097, Cramer: 0.0726'],\n",
       " 'Gender: 1.0, Age Group: 40-49, Risk: ALCOHOL CONSUMING': ['Significance: 0.0, Cramer: 0.342']}"
      ]
     },
     "execution_count": 8,
     "metadata": {},
     "output_type": "execute_result"
    }
   ],
   "source": [
    "Result"
   ]
  },
  {
   "cell_type": "code",
   "execution_count": null,
   "metadata": {},
   "outputs": [],
   "source": [
    "Result2 = {}\n",
    "for i in symptoms:\n",
    "    for e in df[i].unique():\n",
    "        sub_data = df[(df[i] == e)]\n",
    "        for s in symptoms:\n",
    "            crosstab, test_results, expected = rp.crosstab(sub_data['LUNG_CANCER'], sub_data[s], test = 'chi-square', expected_freqs=True, prop = 'cell')\n",
    "            Result[f'Gender: {y}, Age Group: {i}, Risk: {e}'] = [f'Significance: {test_results.iloc[1, 1]}, Cramer: {test_results.iloc[2, 1]}']"
   ]
  }
 ],
 "metadata": {
  "kernelspec": {
   "display_name": "Python 3",
   "language": "python",
   "name": "python3"
  },
  "language_info": {
   "codemirror_mode": {
    "name": "ipython",
    "version": 3
   },
   "file_extension": ".py",
   "mimetype": "text/x-python",
   "name": "python",
   "nbconvert_exporter": "python",
   "pygments_lexer": "ipython3",
   "version": "3.12.0"
  }
 },
 "nbformat": 4,
 "nbformat_minor": 2
}
